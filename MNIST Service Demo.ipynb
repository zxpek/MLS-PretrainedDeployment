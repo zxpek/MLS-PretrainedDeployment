{
 "cells": [
  {
   "cell_type": "code",
   "execution_count": 1,
   "metadata": {},
   "outputs": [
    {
     "name": "stderr",
     "output_type": "stream",
     "text": [
      "Loading required package: ggplot2\n"
     ]
    }
   ],
   "source": [
    "library(caret)"
   ]
  },
  {
   "cell_type": "code",
   "execution_count": 2,
   "metadata": {},
   "outputs": [
    {
     "data": {
      "text/html": [
       "<table>\n",
       "<thead><tr><th scope=col>label</th><th scope=col>pixel0</th><th scope=col>pixel1</th><th scope=col>pixel2</th><th scope=col>pixel3</th><th scope=col>pixel4</th><th scope=col>pixel5</th><th scope=col>pixel6</th><th scope=col>pixel7</th><th scope=col>pixel8</th><th scope=col>...</th><th scope=col>pixel774</th><th scope=col>pixel775</th><th scope=col>pixel776</th><th scope=col>pixel777</th><th scope=col>pixel778</th><th scope=col>pixel779</th><th scope=col>pixel780</th><th scope=col>pixel781</th><th scope=col>pixel782</th><th scope=col>pixel783</th></tr></thead>\n",
       "<tbody>\n",
       "\t<tr><td>1  </td><td>0  </td><td>0  </td><td>0  </td><td>0  </td><td>0  </td><td>0  </td><td>0  </td><td>0  </td><td>0  </td><td>...</td><td>0  </td><td>0  </td><td>0  </td><td>0  </td><td>0  </td><td>0  </td><td>0  </td><td>0  </td><td>0  </td><td>0  </td></tr>\n",
       "\t<tr><td>0  </td><td>0  </td><td>0  </td><td>0  </td><td>0  </td><td>0  </td><td>0  </td><td>0  </td><td>0  </td><td>0  </td><td>...</td><td>0  </td><td>0  </td><td>0  </td><td>0  </td><td>0  </td><td>0  </td><td>0  </td><td>0  </td><td>0  </td><td>0  </td></tr>\n",
       "\t<tr><td>1  </td><td>0  </td><td>0  </td><td>0  </td><td>0  </td><td>0  </td><td>0  </td><td>0  </td><td>0  </td><td>0  </td><td>...</td><td>0  </td><td>0  </td><td>0  </td><td>0  </td><td>0  </td><td>0  </td><td>0  </td><td>0  </td><td>0  </td><td>0  </td></tr>\n",
       "\t<tr><td>4  </td><td>0  </td><td>0  </td><td>0  </td><td>0  </td><td>0  </td><td>0  </td><td>0  </td><td>0  </td><td>0  </td><td>...</td><td>0  </td><td>0  </td><td>0  </td><td>0  </td><td>0  </td><td>0  </td><td>0  </td><td>0  </td><td>0  </td><td>0  </td></tr>\n",
       "\t<tr><td>0  </td><td>0  </td><td>0  </td><td>0  </td><td>0  </td><td>0  </td><td>0  </td><td>0  </td><td>0  </td><td>0  </td><td>...</td><td>0  </td><td>0  </td><td>0  </td><td>0  </td><td>0  </td><td>0  </td><td>0  </td><td>0  </td><td>0  </td><td>0  </td></tr>\n",
       "\t<tr><td>0  </td><td>0  </td><td>0  </td><td>0  </td><td>0  </td><td>0  </td><td>0  </td><td>0  </td><td>0  </td><td>0  </td><td>...</td><td>0  </td><td>0  </td><td>0  </td><td>0  </td><td>0  </td><td>0  </td><td>0  </td><td>0  </td><td>0  </td><td>0  </td></tr>\n",
       "</tbody>\n",
       "</table>\n"
      ],
      "text/latex": [
       "\\begin{tabular}{r|lllllllllllllllllllllllllllllllllllllllllllllllllllllllllllllllllllllllllllllllllllllllllllllllllllllllllllllllllllllllllllllllllllllllllllllllllllllllllllllllllllllllllllllllllllllllllllllllllllllllllllllllllllllllllllllllllllllllllllllllllllllllllllllllllllllllllllllllllllllllllllllllllllllllllllllllllllllllllllllllllllllllllllllllllllllllllllllllllllllllllllllllllllllllllllllllllllllllllllllllllllllllllllllllllllllllllllllllllllllllllllllllllllllllllllllllllllllllllllllllllllllllllllllllllllllllllllllllllllllllllllllllllllllllllllllllllllllllllllllllllllllllllllllllllllllllllllllllllllllllllllllllllllllllllllllllllllllllllllllllllllllllllllllllllllllllllllllllllllllllllllllllllllllllllllllllllllllllllllllllllllllllllllllllllllllllllllllllllllllllllllllllllllllllllllllllll}\n",
       " label & pixel0 & pixel1 & pixel2 & pixel3 & pixel4 & pixel5 & pixel6 & pixel7 & pixel8 & ... & pixel774 & pixel775 & pixel776 & pixel777 & pixel778 & pixel779 & pixel780 & pixel781 & pixel782 & pixel783\\\\\n",
       "\\hline\n",
       "\t 1   & 0   & 0   & 0   & 0   & 0   & 0   & 0   & 0   & 0   & ... & 0   & 0   & 0   & 0   & 0   & 0   & 0   & 0   & 0   & 0  \\\\\n",
       "\t 0   & 0   & 0   & 0   & 0   & 0   & 0   & 0   & 0   & 0   & ... & 0   & 0   & 0   & 0   & 0   & 0   & 0   & 0   & 0   & 0  \\\\\n",
       "\t 1   & 0   & 0   & 0   & 0   & 0   & 0   & 0   & 0   & 0   & ... & 0   & 0   & 0   & 0   & 0   & 0   & 0   & 0   & 0   & 0  \\\\\n",
       "\t 4   & 0   & 0   & 0   & 0   & 0   & 0   & 0   & 0   & 0   & ... & 0   & 0   & 0   & 0   & 0   & 0   & 0   & 0   & 0   & 0  \\\\\n",
       "\t 0   & 0   & 0   & 0   & 0   & 0   & 0   & 0   & 0   & 0   & ... & 0   & 0   & 0   & 0   & 0   & 0   & 0   & 0   & 0   & 0  \\\\\n",
       "\t 0   & 0   & 0   & 0   & 0   & 0   & 0   & 0   & 0   & 0   & ... & 0   & 0   & 0   & 0   & 0   & 0   & 0   & 0   & 0   & 0  \\\\\n",
       "\\end{tabular}\n"
      ],
      "text/markdown": [
       "\n",
       "label | pixel0 | pixel1 | pixel2 | pixel3 | pixel4 | pixel5 | pixel6 | pixel7 | pixel8 | ... | pixel774 | pixel775 | pixel776 | pixel777 | pixel778 | pixel779 | pixel780 | pixel781 | pixel782 | pixel783 | \n",
       "|---|---|---|---|---|---|\n",
       "| 1   | 0   | 0   | 0   | 0   | 0   | 0   | 0   | 0   | 0   | ... | 0   | 0   | 0   | 0   | 0   | 0   | 0   | 0   | 0   | 0   | \n",
       "| 0   | 0   | 0   | 0   | 0   | 0   | 0   | 0   | 0   | 0   | ... | 0   | 0   | 0   | 0   | 0   | 0   | 0   | 0   | 0   | 0   | \n",
       "| 1   | 0   | 0   | 0   | 0   | 0   | 0   | 0   | 0   | 0   | ... | 0   | 0   | 0   | 0   | 0   | 0   | 0   | 0   | 0   | 0   | \n",
       "| 4   | 0   | 0   | 0   | 0   | 0   | 0   | 0   | 0   | 0   | ... | 0   | 0   | 0   | 0   | 0   | 0   | 0   | 0   | 0   | 0   | \n",
       "| 0   | 0   | 0   | 0   | 0   | 0   | 0   | 0   | 0   | 0   | ... | 0   | 0   | 0   | 0   | 0   | 0   | 0   | 0   | 0   | 0   | \n",
       "| 0   | 0   | 0   | 0   | 0   | 0   | 0   | 0   | 0   | 0   | ... | 0   | 0   | 0   | 0   | 0   | 0   | 0   | 0   | 0   | 0   | \n",
       "\n",
       "\n"
      ],
      "text/plain": [
       "  label pixel0 pixel1 pixel2 pixel3 pixel4 pixel5 pixel6 pixel7 pixel8 ...\n",
       "1 1     0      0      0      0      0      0      0      0      0      ...\n",
       "2 0     0      0      0      0      0      0      0      0      0      ...\n",
       "3 1     0      0      0      0      0      0      0      0      0      ...\n",
       "4 4     0      0      0      0      0      0      0      0      0      ...\n",
       "5 0     0      0      0      0      0      0      0      0      0      ...\n",
       "6 0     0      0      0      0      0      0      0      0      0      ...\n",
       "  pixel774 pixel775 pixel776 pixel777 pixel778 pixel779 pixel780 pixel781\n",
       "1 0        0        0        0        0        0        0        0       \n",
       "2 0        0        0        0        0        0        0        0       \n",
       "3 0        0        0        0        0        0        0        0       \n",
       "4 0        0        0        0        0        0        0        0       \n",
       "5 0        0        0        0        0        0        0        0       \n",
       "6 0        0        0        0        0        0        0        0       \n",
       "  pixel782 pixel783\n",
       "1 0        0       \n",
       "2 0        0       \n",
       "3 0        0       \n",
       "4 0        0       \n",
       "5 0        0       \n",
       "6 0        0       "
      ]
     },
     "metadata": {},
     "output_type": "display_data"
    }
   ],
   "source": [
    "data <- read.csv('Data/MNIST/train.csv')\n",
    "head(data)"
   ]
  },
  {
   "cell_type": "code",
   "execution_count": 3,
   "metadata": {
    "collapsed": true
   },
   "outputs": [],
   "source": [
    "# Partition the dataset 75%/25% split in order to create a train and test dataset\n",
    "partition <- createDataPartition(y = data$label, p = .75,  list = FALSE)\n",
    "\n",
    "# Get the train and test dataset\n",
    "train <- data[partition, ] # This gives us the 75%\n",
    "test <- data[-partition, ] # This gives us the remaining 25%"
   ]
  },
  {
   "cell_type": "code",
   "execution_count": 4,
   "metadata": {},
   "outputs": [
    {
     "data": {
      "text/html": [
       "<table>\n",
       "<thead><tr><th></th><th scope=col>label</th><th scope=col>pixel0</th><th scope=col>pixel1</th><th scope=col>pixel2</th><th scope=col>pixel3</th><th scope=col>pixel4</th><th scope=col>pixel5</th><th scope=col>pixel6</th><th scope=col>pixel7</th><th scope=col>pixel8</th><th scope=col>...</th><th scope=col>pixel774</th><th scope=col>pixel775</th><th scope=col>pixel776</th><th scope=col>pixel777</th><th scope=col>pixel778</th><th scope=col>pixel779</th><th scope=col>pixel780</th><th scope=col>pixel781</th><th scope=col>pixel782</th><th scope=col>pixel783</th></tr></thead>\n",
       "<tbody>\n",
       "\t<tr><th scope=row>1</th><td>1  </td><td>0  </td><td>0  </td><td>0  </td><td>0  </td><td>0  </td><td>0  </td><td>0  </td><td>0  </td><td>0  </td><td>...</td><td>0  </td><td>0  </td><td>0  </td><td>0  </td><td>0  </td><td>0  </td><td>0  </td><td>0  </td><td>0  </td><td>0  </td></tr>\n",
       "\t<tr><th scope=row>2</th><td>0  </td><td>0  </td><td>0  </td><td>0  </td><td>0  </td><td>0  </td><td>0  </td><td>0  </td><td>0  </td><td>0  </td><td>...</td><td>0  </td><td>0  </td><td>0  </td><td>0  </td><td>0  </td><td>0  </td><td>0  </td><td>0  </td><td>0  </td><td>0  </td></tr>\n",
       "\t<tr><th scope=row>4</th><td>4  </td><td>0  </td><td>0  </td><td>0  </td><td>0  </td><td>0  </td><td>0  </td><td>0  </td><td>0  </td><td>0  </td><td>...</td><td>0  </td><td>0  </td><td>0  </td><td>0  </td><td>0  </td><td>0  </td><td>0  </td><td>0  </td><td>0  </td><td>0  </td></tr>\n",
       "\t<tr><th scope=row>6</th><td>0  </td><td>0  </td><td>0  </td><td>0  </td><td>0  </td><td>0  </td><td>0  </td><td>0  </td><td>0  </td><td>0  </td><td>...</td><td>0  </td><td>0  </td><td>0  </td><td>0  </td><td>0  </td><td>0  </td><td>0  </td><td>0  </td><td>0  </td><td>0  </td></tr>\n",
       "\t<tr><th scope=row>9</th><td>5  </td><td>0  </td><td>0  </td><td>0  </td><td>0  </td><td>0  </td><td>0  </td><td>0  </td><td>0  </td><td>0  </td><td>...</td><td>0  </td><td>0  </td><td>0  </td><td>0  </td><td>0  </td><td>0  </td><td>0  </td><td>0  </td><td>0  </td><td>0  </td></tr>\n",
       "\t<tr><th scope=row>10</th><td>3  </td><td>0  </td><td>0  </td><td>0  </td><td>0  </td><td>0  </td><td>0  </td><td>0  </td><td>0  </td><td>0  </td><td>...</td><td>0  </td><td>0  </td><td>0  </td><td>0  </td><td>0  </td><td>0  </td><td>0  </td><td>0  </td><td>0  </td><td>0  </td></tr>\n",
       "</tbody>\n",
       "</table>\n"
      ],
      "text/latex": [
       "\\begin{tabular}{r|lllllllllllllllllllllllllllllllllllllllllllllllllllllllllllllllllllllllllllllllllllllllllllllllllllllllllllllllllllllllllllllllllllllllllllllllllllllllllllllllllllllllllllllllllllllllllllllllllllllllllllllllllllllllllllllllllllllllllllllllllllllllllllllllllllllllllllllllllllllllllllllllllllllllllllllllllllllllllllllllllllllllllllllllllllllllllllllllllllllllllllllllllllllllllllllllllllllllllllllllllllllllllllllllllllllllllllllllllllllllllllllllllllllllllllllllllllllllllllllllllllllllllllllllllllllllllllllllllllllllllllllllllllllllllllllllllllllllllllllllllllllllllllllllllllllllllllllllllllllllllllllllllllllllllllllllllllllllllllllllllllllllllllllllllllllllllllllllllllllllllllllllllllllllllllllllllllllllllllllllllllllllllllllllllllllllllllllllllllllllllllllllllllllllllllllllll}\n",
       "  & label & pixel0 & pixel1 & pixel2 & pixel3 & pixel4 & pixel5 & pixel6 & pixel7 & pixel8 & ... & pixel774 & pixel775 & pixel776 & pixel777 & pixel778 & pixel779 & pixel780 & pixel781 & pixel782 & pixel783\\\\\n",
       "\\hline\n",
       "\t1 & 1   & 0   & 0   & 0   & 0   & 0   & 0   & 0   & 0   & 0   & ... & 0   & 0   & 0   & 0   & 0   & 0   & 0   & 0   & 0   & 0  \\\\\n",
       "\t2 & 0   & 0   & 0   & 0   & 0   & 0   & 0   & 0   & 0   & 0   & ... & 0   & 0   & 0   & 0   & 0   & 0   & 0   & 0   & 0   & 0  \\\\\n",
       "\t4 & 4   & 0   & 0   & 0   & 0   & 0   & 0   & 0   & 0   & 0   & ... & 0   & 0   & 0   & 0   & 0   & 0   & 0   & 0   & 0   & 0  \\\\\n",
       "\t6 & 0   & 0   & 0   & 0   & 0   & 0   & 0   & 0   & 0   & 0   & ... & 0   & 0   & 0   & 0   & 0   & 0   & 0   & 0   & 0   & 0  \\\\\n",
       "\t9 & 5   & 0   & 0   & 0   & 0   & 0   & 0   & 0   & 0   & 0   & ... & 0   & 0   & 0   & 0   & 0   & 0   & 0   & 0   & 0   & 0  \\\\\n",
       "\t10 & 3   & 0   & 0   & 0   & 0   & 0   & 0   & 0   & 0   & 0   & ... & 0   & 0   & 0   & 0   & 0   & 0   & 0   & 0   & 0   & 0  \\\\\n",
       "\\end{tabular}\n"
      ],
      "text/markdown": [
       "\n",
       "| <!--/--> | label | pixel0 | pixel1 | pixel2 | pixel3 | pixel4 | pixel5 | pixel6 | pixel7 | pixel8 | ... | pixel774 | pixel775 | pixel776 | pixel777 | pixel778 | pixel779 | pixel780 | pixel781 | pixel782 | pixel783 | \n",
       "|---|---|---|---|---|---|\n",
       "| 1 | 1   | 0   | 0   | 0   | 0   | 0   | 0   | 0   | 0   | 0   | ... | 0   | 0   | 0   | 0   | 0   | 0   | 0   | 0   | 0   | 0   | \n",
       "| 2 | 0   | 0   | 0   | 0   | 0   | 0   | 0   | 0   | 0   | 0   | ... | 0   | 0   | 0   | 0   | 0   | 0   | 0   | 0   | 0   | 0   | \n",
       "| 4 | 4   | 0   | 0   | 0   | 0   | 0   | 0   | 0   | 0   | 0   | ... | 0   | 0   | 0   | 0   | 0   | 0   | 0   | 0   | 0   | 0   | \n",
       "| 6 | 0   | 0   | 0   | 0   | 0   | 0   | 0   | 0   | 0   | 0   | ... | 0   | 0   | 0   | 0   | 0   | 0   | 0   | 0   | 0   | 0   | \n",
       "| 9 | 5   | 0   | 0   | 0   | 0   | 0   | 0   | 0   | 0   | 0   | ... | 0   | 0   | 0   | 0   | 0   | 0   | 0   | 0   | 0   | 0   | \n",
       "| 10 | 3   | 0   | 0   | 0   | 0   | 0   | 0   | 0   | 0   | 0   | ... | 0   | 0   | 0   | 0   | 0   | 0   | 0   | 0   | 0   | 0   | \n",
       "\n",
       "\n"
      ],
      "text/plain": [
       "   label pixel0 pixel1 pixel2 pixel3 pixel4 pixel5 pixel6 pixel7 pixel8 ...\n",
       "1  1     0      0      0      0      0      0      0      0      0      ...\n",
       "2  0     0      0      0      0      0      0      0      0      0      ...\n",
       "4  4     0      0      0      0      0      0      0      0      0      ...\n",
       "6  0     0      0      0      0      0      0      0      0      0      ...\n",
       "9  5     0      0      0      0      0      0      0      0      0      ...\n",
       "10 3     0      0      0      0      0      0      0      0      0      ...\n",
       "   pixel774 pixel775 pixel776 pixel777 pixel778 pixel779 pixel780 pixel781\n",
       "1  0        0        0        0        0        0        0        0       \n",
       "2  0        0        0        0        0        0        0        0       \n",
       "4  0        0        0        0        0        0        0        0       \n",
       "6  0        0        0        0        0        0        0        0       \n",
       "9  0        0        0        0        0        0        0        0       \n",
       "10 0        0        0        0        0        0        0        0       \n",
       "   pixel782 pixel783\n",
       "1  0        0       \n",
       "2  0        0       \n",
       "4  0        0       \n",
       "6  0        0       \n",
       "9  0        0       \n",
       "10 0        0       "
      ]
     },
     "metadata": {},
     "output_type": "display_data"
    }
   ],
   "source": [
    "head(train)"
   ]
  },
  {
   "cell_type": "code",
   "execution_count": 5,
   "metadata": {},
   "outputs": [
    {
     "name": "stdout",
     "output_type": "stream",
     "text": [
      "Automatically adding a MinMax normalization transform, use 'norm=Warn' or 'norm=No' to turn this behavior off.\n",
      "Beginning processing data.\n",
      "Rows Read: 31502, Read Time: 0.004, Transform Time: 0\n",
      "Beginning processing data.\n",
      "Automatically converting column 'label' into a factor.\n",
      "Beginning processing data.\n",
      "Rows Read: 31502, Read Time: 0.003, Transform Time: 0\n",
      "Beginning processing data.\n",
      "Beginning processing data.\n",
      "Rows Read: 31502, Read Time: 0.004, Transform Time: 0\n",
      "Beginning processing data.\n",
      "Beginning processing data.\n",
      "Rows Read: 31502, Read Time: 0.003, Transform Time: 0\n",
      "Beginning processing data.\n",
      "LBFGS multi-threading will attempt to load dataset into memory. In case of out-of-memory issues, turn off multi-threading by setting trainThreads to 1.\n",
      "Beginning optimization\n",
      "num vars: 7850\n",
      "improvement criterion: Mean Improvement\n",
      "L1 regularization selected 3256 of 7850 weights.\n",
      "Not training a calibrator because it is not needed.\n",
      "Elapsed time: 00:00:13.0507502\n",
      "Elapsed time: 00:00:00.2960999\n"
     ]
    }
   ],
   "source": [
    "mnistModelLR <- rxLogisticRegression(\n",
    "    formula = label ~ .,\n",
    "    data = train, \n",
    "    type = \"multiClass\",)"
   ]
  },
  {
   "cell_type": "code",
   "execution_count": 6,
   "metadata": {},
   "outputs": [
    {
     "name": "stdout",
     "output_type": "stream",
     "text": [
      "Automatically adding a MinMax normalization transform, use 'norm=Warn' or 'norm=No' to turn this behavior off.\n",
      "Beginning processing data.\n",
      "Rows Read: 31502, Read Time: 0.003, Transform Time: 0\n",
      "Beginning processing data.\n",
      "Automatically converting column 'label' into a factor.\n",
      "Beginning processing data.\n",
      "Rows Read: 31502, Read Time: 0.004, Transform Time: 0\n",
      "Beginning processing data.\n",
      "Beginning processing data.\n",
      "Rows Read: 31502, Read Time: 0.004, Transform Time: 0\n",
      "Beginning processing data.\n",
      "Beginning processing data.\n",
      "Rows Read: 31502, Read Time: 0.003, Transform Time: 0\n",
      "Beginning processing data.\n",
      "Using: SSE Math\n",
      "\r\n",
      "***** Net definition *****\r\n",
      "  input Data [784];\r\n",
      "  hidden H [100] sigmoid { // Depth 1\r\n",
      "    from Data all;\r\n",
      "  }\r\n",
      "  output Result [10] softmax { // Depth 0\r\n",
      "    from H all;\r\n",
      "  }\r\n",
      "***** End net definition *****\r\n",
      "Input count: 784\n",
      "Output count: 10\n",
      "Output Function: SoftMax\n",
      "Loss Function: LogLoss\n",
      "PreTrainer: NoPreTrainer\n",
      "___________________________________________________________________\n",
      "Starting training...\n",
      "Learning rate: 0.001000\n",
      "Momentum: 0.000000\n",
      "InitWtsDiameter: 0.100000\n",
      "___________________________________________________________________\n",
      "Initializing 1 Hidden Layers, 79510 Weights...\n",
      "Estimated Pre-training MeanError = 3.260075\n",
      "Iter:1/100, MeanErr=2.565243(-21.31%%), 2171.45M WeightUpdates/sec\n",
      "Iter:2/100, MeanErr=1.214727(-52.65%%), 2200.10M WeightUpdates/sec\n",
      "Iter:3/100, MeanErr=0.849348(-30.08%%), 2192.11M WeightUpdates/sec\n",
      "Iter:4/100, MeanErr=0.705635(-16.92%%), 2317.93M WeightUpdates/sec\n",
      "Iter:5/100, MeanErr=0.630601(-10.63%%), 2086.85M WeightUpdates/sec\n",
      "Iter:6/100, MeanErr=0.583772(-7.43%%), 2251.20M WeightUpdates/sec\n",
      "Iter:7/100, MeanErr=0.550820(-5.64%%), 2323.73M WeightUpdates/sec\n",
      "Iter:8/100, MeanErr=0.525762(-4.55%%), 2255.11M WeightUpdates/sec\n",
      "Iter:9/100, MeanErr=0.505364(-3.88%%), 2232.91M WeightUpdates/sec\n",
      "Iter:10/100, MeanErr=0.488369(-3.36%%), 2287.47M WeightUpdates/sec\n",
      "Iter:11/100, MeanErr=0.473271(-3.09%%), 2209.27M WeightUpdates/sec\n",
      "Iter:12/100, MeanErr=0.460027(-2.80%%), 2044.96M WeightUpdates/sec\n",
      "Iter:13/100, MeanErr=0.447927(-2.63%%), 2214.95M WeightUpdates/sec\n",
      "Iter:14/100, MeanErr=0.436519(-2.55%%), 2332.52M WeightUpdates/sec\n",
      "Iter:15/100, MeanErr=0.425711(-2.48%%), 2124.93M WeightUpdates/sec\n",
      "Iter:16/100, MeanErr=0.416057(-2.27%%), 2283.02M WeightUpdates/sec\n",
      "Iter:17/100, MeanErr=0.406310(-2.34%%), 2237.66M WeightUpdates/sec\n",
      "Iter:18/100, MeanErr=0.397450(-2.18%%), 2320.21M WeightUpdates/sec\n",
      "Iter:19/100, MeanErr=0.388581(-2.23%%), 2286.85M WeightUpdates/sec\n",
      "Iter:20/100, MeanErr=0.380418(-2.10%%), 2089.56M WeightUpdates/sec\n",
      "Iter:21/100, MeanErr=0.372161(-2.17%%), 2315.78M WeightUpdates/sec\n",
      "Iter:22/100, MeanErr=0.364249(-2.13%%), 2108.17M WeightUpdates/sec\n",
      "Iter:23/100, MeanErr=0.356547(-2.11%%), 2151.23M WeightUpdates/sec\n",
      "Iter:24/100, MeanErr=0.349370(-2.01%%), 2362.99M WeightUpdates/sec\n",
      "Iter:25/100, MeanErr=0.342242(-2.04%%), 2148.49M WeightUpdates/sec\n",
      "Iter:26/100, MeanErr=0.335589(-1.94%%), 2151.77M WeightUpdates/sec\n",
      "Iter:27/100, MeanErr=0.329621(-1.78%%), 2267.44M WeightUpdates/sec\n",
      "Iter:28/100, MeanErr=0.322895(-2.04%%), 2158.59M WeightUpdates/sec\n",
      "Iter:29/100, MeanErr=0.316886(-1.86%%), 2354.89M WeightUpdates/sec\n",
      "Iter:30/100, MeanErr=0.311251(-1.78%%), 2212.91M WeightUpdates/sec\n",
      "Iter:31/100, MeanErr=0.305634(-1.80%%), 2282.77M WeightUpdates/sec\n",
      "Iter:32/100, MeanErr=0.300354(-1.73%%), 2242.98M WeightUpdates/sec\n",
      "Iter:33/100, MeanErr=0.294981(-1.79%%), 2183.51M WeightUpdates/sec\n",
      "Iter:34/100, MeanErr=0.289882(-1.73%%), 2187.35M WeightUpdates/sec\n",
      "Iter:35/100, MeanErr=0.284981(-1.69%%), 2329.05M WeightUpdates/sec\n",
      "Iter:36/100, MeanErr=0.280250(-1.66%%), 2079.53M WeightUpdates/sec\n",
      "Iter:37/100, MeanErr=0.275457(-1.71%%), 2241.56M WeightUpdates/sec\n",
      "Iter:38/100, MeanErr=0.271420(-1.47%%), 2212.87M WeightUpdates/sec\n",
      "Iter:39/100, MeanErr=0.266598(-1.78%%), 2163.34M WeightUpdates/sec\n",
      "Iter:40/100, MeanErr=0.262835(-1.41%%), 2223.25M WeightUpdates/sec\n",
      "Iter:41/100, MeanErr=0.258394(-1.69%%), 2264.93M WeightUpdates/sec\n",
      "Iter:42/100, MeanErr=0.254542(-1.49%%), 2184.82M WeightUpdates/sec\n",
      "Iter:43/100, MeanErr=0.250567(-1.56%%), 2152.28M WeightUpdates/sec\n",
      "Iter:44/100, MeanErr=0.246548(-1.60%%), 2265.90M WeightUpdates/sec\n",
      "Iter:45/100, MeanErr=0.243335(-1.30%%), 2161.83M WeightUpdates/sec\n",
      "Iter:46/100, MeanErr=0.239722(-1.48%%), 2255.00M WeightUpdates/sec\n",
      "Iter:47/100, MeanErr=0.235952(-1.57%%), 2189.14M WeightUpdates/sec\n",
      "Iter:48/100, MeanErr=0.232613(-1.42%%), 2235.45M WeightUpdates/sec\n",
      "Iter:49/100, MeanErr=0.229401(-1.38%%), 2315.54M WeightUpdates/sec\n",
      "Iter:50/100, MeanErr=0.226297(-1.35%%), 2191.25M WeightUpdates/sec\n",
      "Iter:51/100, MeanErr=0.223063(-1.43%%), 2095.04M WeightUpdates/sec\n",
      "Iter:52/100, MeanErr=0.219734(-1.49%%), 2315.03M WeightUpdates/sec\n",
      "Iter:53/100, MeanErr=0.216747(-1.36%%), 2101.51M WeightUpdates/sec\n",
      "Iter:54/100, MeanErr=0.214000(-1.27%%), 2159.21M WeightUpdates/sec\n",
      "Iter:55/100, MeanErr=0.210973(-1.41%%), 2343.96M WeightUpdates/sec\n",
      "Iter:56/100, MeanErr=0.208350(-1.24%%), 2235.38M WeightUpdates/sec\n",
      "Iter:57/100, MeanErr=0.205427(-1.40%%), 2226.41M WeightUpdates/sec\n",
      "Iter:58/100, MeanErr=0.202650(-1.35%%), 2290.63M WeightUpdates/sec\n",
      "Iter:59/100, MeanErr=0.200171(-1.22%%), 2121.98M WeightUpdates/sec\n",
      "Iter:60/100, MeanErr=0.197736(-1.22%%), 2326.53M WeightUpdates/sec\n",
      "Iter:61/100, MeanErr=0.194776(-1.50%%), 2185.23M WeightUpdates/sec\n",
      "Iter:62/100, MeanErr=0.192611(-1.11%%), 2182.29M WeightUpdates/sec\n",
      "Iter:63/100, MeanErr=0.190101(-1.30%%), 2288.13M WeightUpdates/sec\n",
      "Iter:64/100, MeanErr=0.187717(-1.25%%), 2216.66M WeightUpdates/sec\n",
      "Iter:65/100, MeanErr=0.185218(-1.33%%), 2187.09M WeightUpdates/sec\n",
      "Iter:66/100, MeanErr=0.183017(-1.19%%), 2309.93M WeightUpdates/sec\n",
      "Iter:67/100, MeanErr=0.181036(-1.08%%), 2181.88M WeightUpdates/sec\n",
      "Iter:68/100, MeanErr=0.178686(-1.30%%), 2177.01M WeightUpdates/sec\n",
      "Iter:69/100, MeanErr=0.176521(-1.21%%), 2353.95M WeightUpdates/sec\n",
      "Iter:70/100, MeanErr=0.174401(-1.20%%), 2154.43M WeightUpdates/sec\n",
      "Iter:71/100, MeanErr=0.172521(-1.08%%), 2187.98M WeightUpdates/sec\n",
      "Iter:72/100, MeanErr=0.170328(-1.27%%), 2189.74M WeightUpdates/sec\n",
      "Iter:73/100, MeanErr=0.167952(-1.40%%), 2295.62M WeightUpdates/sec\n",
      "Iter:74/100, MeanErr=0.166381(-0.94%%), 2261.31M WeightUpdates/sec\n",
      "Iter:75/100, MeanErr=0.164243(-1.28%%), 2423.78M WeightUpdates/sec\n",
      "Iter:76/100, MeanErr=0.162694(-0.94%%), 2234.91M WeightUpdates/sec\n",
      "Iter:77/100, MeanErr=0.160578(-1.30%%), 2398.06M WeightUpdates/sec\n",
      "Iter:78/100, MeanErr=0.158754(-1.14%%), 2206.10M WeightUpdates/sec\n",
      "Iter:79/100, MeanErr=0.156787(-1.24%%), 2182.92M WeightUpdates/sec\n",
      "Iter:80/100, MeanErr=0.155222(-1.00%%), 2308.76M WeightUpdates/sec\n",
      "Iter:81/100, MeanErr=0.153807(-0.91%%), 2125.15M WeightUpdates/sec\n",
      "Iter:82/100, MeanErr=0.151811(-1.30%%), 2319.93M WeightUpdates/sec\n",
      "Iter:83/100, MeanErr=0.150201(-1.06%%), 2175.32M WeightUpdates/sec\n",
      "Iter:84/100, MeanErr=0.148579(-1.08%%), 2232.64M WeightUpdates/sec\n",
      "Iter:85/100, MeanErr=0.146963(-1.09%%), 2401.68M WeightUpdates/sec\n",
      "Iter:86/100, MeanErr=0.145202(-1.20%%), 2219.03M WeightUpdates/sec\n",
      "Iter:87/100, MeanErr=0.143887(-0.91%%), 2110.50M WeightUpdates/sec\n",
      "Iter:88/100, MeanErr=0.142126(-1.22%%), 2296.86M WeightUpdates/sec\n",
      "Iter:89/100, MeanErr=0.140659(-1.03%%), 2232.14M WeightUpdates/sec\n",
      "Iter:90/100, MeanErr=0.139165(-1.06%%), 2254.86M WeightUpdates/sec\n",
      "Iter:91/100, MeanErr=0.137546(-1.16%%), 2124.83M WeightUpdates/sec\n",
      "Iter:92/100, MeanErr=0.136375(-0.85%%), 2268.55M WeightUpdates/sec\n",
      "Iter:93/100, MeanErr=0.134730(-1.21%%), 2509.92M WeightUpdates/sec\n",
      "Iter:94/100, MeanErr=0.133487(-0.92%%), 2280.37M WeightUpdates/sec\n",
      "Iter:95/100, MeanErr=0.131968(-1.14%%), 2254.61M WeightUpdates/sec\n",
      "Iter:96/100, MeanErr=0.130451(-1.15%%), 2351.03M WeightUpdates/sec\n",
      "Iter:97/100, MeanErr=0.129121(-1.02%%), 2197.99M WeightUpdates/sec\n",
      "Iter:98/100, MeanErr=0.127768(-1.05%%), 2263.52M WeightUpdates/sec\n",
      "Iter:99/100, MeanErr=0.126406(-1.07%%), 2161.85M WeightUpdates/sec\n",
      "Iter:100/100, MeanErr=0.125184(-0.97%%), 2188.48M WeightUpdates/sec\n",
      "Done!\n",
      "Estimated Post-training MeanError = 0.123229\n",
      "___________________________________________________________________\n",
      "Not training a calibrator because it is not needed.\n",
      "Elapsed time: 00:01:58.2945762\n"
     ]
    }
   ],
   "source": [
    "mnistModelNN <- rxNeuralNet(\n",
    "    formula = label ~ .,\n",
    "    data = train, \n",
    "    type = \"multiClass\",)"
   ]
  },
  {
   "cell_type": "code",
   "execution_count": 7,
   "metadata": {
    "collapsed": true
   },
   "outputs": [],
   "source": [
    "#mnistModelEN <- rxEnsemble(\n",
    "#    formula = label ~ .,\n",
    "#    data = train, \n",
    "#    type = \"multiClass\", \n",
    "#    trainers = list(fastForest(), fastForest(), logisticRegression()))"
   ]
  },
  {
   "cell_type": "code",
   "execution_count": 9,
   "metadata": {},
   "outputs": [
    {
     "name": "stdout",
     "output_type": "stream",
     "text": [
      "Beginning processing data.\n",
      "Rows Read: 10498, Read Time: 0.013, Transform Time: 0\n",
      "Beginning processing data.\n",
      "Elapsed time: 00:00:01.0645476\n",
      "Finished writing 10498 rows.\n",
      "Writing completed.\n",
      "Beginning processing data.\n",
      "Rows Read: 10498, Read Time: 0.013, Transform Time: 0\n",
      "Beginning processing data.\n",
      "Elapsed time: 00:00:01.1413963\n",
      "Finished writing 10498 rows.\n",
      "Writing completed.\n"
     ]
    }
   ],
   "source": [
    "scoreLR <- rxPredict(mnistModelLR, data = test, extraVarsToWrite = \"label\")\n",
    "scoreNN <- rxPredict(mnistModelNN, data = test, extraVarsToWrite = \"label\")\n",
    "#scoreEN <- rxPredict(mnistModel, data = test, extraVarsToWrite = \"label\")"
   ]
  },
  {
   "cell_type": "code",
   "execution_count": 10,
   "metadata": {},
   "outputs": [
    {
     "name": "stdout",
     "output_type": "stream",
     "text": [
      "[1] 0.9182701\n",
      "[1] 0.9653267\n"
     ]
    }
   ],
   "source": [
    "print(sum(scoreLR$label == scoreLR$PredictedLabel)/dim(scoreLR)[1])\n",
    "print(sum(scoreNN$label == scoreNN$PredictedLabel)/dim(scoreNN)[1])\n",
    "#print(sum(scoreEN$label == scoreEN$PredictedLabel)/dim(scoreEN)[1])"
   ]
  },
  {
   "cell_type": "code",
   "execution_count": 13,
   "metadata": {
    "collapsed": true
   },
   "outputs": [],
   "source": [
    "classMnist<-function(input){\n",
    "    score <- rxPredict(mnistModelNN, data = input, extraVarsToWrite = 'label')\n",
    "    return(score$PredictedLabel)\n",
    "}"
   ]
  },
  {
   "cell_type": "code",
   "execution_count": 16,
   "metadata": {},
   "outputs": [],
   "source": [
    "remoteLogin(\"http://localhost:12800\", \n",
    "            username = \"admin\", \n",
    "            password = \"Pass@word1\",\n",
    "            session = FALSE)\n",
    "\n",
    "api <- updateService(\n",
    "     \"classMnist\",\n",
    "     code = classMnist,\n",
    "     model = mnistModelNN,\n",
    "     inputs = list(input = \"data.frame\"),\n",
    "     outputs = list(PredictedLabel = \"numeric\"),\n",
    "     v = \"v1.0.0\"\n",
    ")"
   ]
  }
 ],
 "metadata": {
  "kernelspec": {
   "display_name": "R",
   "language": "R",
   "name": "ir"
  },
  "language_info": {
   "codemirror_mode": "r",
   "file_extension": ".r",
   "mimetype": "text/x-r-source",
   "name": "R",
   "pygments_lexer": "r",
   "version": "3.4.1"
  }
 },
 "nbformat": 4,
 "nbformat_minor": 2
}
