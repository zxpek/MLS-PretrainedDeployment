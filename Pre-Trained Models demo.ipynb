{
 "cells": [
  {
   "cell_type": "markdown",
   "metadata": {},
   "source": [
    "# Simple Image Classifier with Pre-Trained image featurizer\n",
    "\n",
    "To train traditional image classifiers, a large number of images is needed. By utilising the Pre-Trained image featurizer that comes with Microsoft ML Server, we can create a powerful image classifier with very limited training."
   ]
  },
  {
   "cell_type": "code",
   "execution_count": 1,
   "metadata": {},
   "outputs": [
    {
     "name": "stderr",
     "output_type": "stream",
     "text": [
      "Loading required package: plyr\n",
      "Loading required package: magrittr\n",
      "\n",
      "Attaching package: 'imager'\n",
      "\n",
      "The following object is masked from 'package:magrittr':\n",
      "\n",
      "    add\n",
      "\n",
      "The following object is masked from 'package:plyr':\n",
      "\n",
      "    liply\n",
      "\n",
      "The following objects are masked from 'package:stats':\n",
      "\n",
      "    convolve, spectrum\n",
      "\n",
      "The following object is masked from 'package:graphics':\n",
      "\n",
      "    frame\n",
      "\n",
      "The following object is masked from 'package:base':\n",
      "\n",
      "    save.image\n",
      "\n"
     ]
    }
   ],
   "source": [
    "library(imager)"
   ]
  },
  {
   "cell_type": "markdown",
   "metadata": {},
   "source": [
    "### Load Data"
   ]
  },
  {
   "cell_type": "code",
   "execution_count": 2,
   "metadata": {},
   "outputs": [
    {
     "name": "stdout",
     "output_type": "stream",
     "text": [
      "[1] \"Cat\"        \"Dog\"        \"FighterJet\" \"Fish\"       \"Flower\"    \n",
      "[6] \"Helicopter\" \"Monkey\"     \"Table\"     \n",
      "                               Image Label\n",
      "1   Data/Pictures/Train/Cat/cat1.jpg   Cat\n",
      "2   Data/Pictures/Train/Cat/cat2.jpg   Cat\n",
      "3   Data/Pictures/Train/Cat/cat3.jpg   Cat\n",
      "4   Data/Pictures/Train/Cat/cat4.jpg   Cat\n",
      "5   Data/Pictures/Train/Cat/cat5.jpg   Cat\n",
      "6   Data/Pictures/Train/Cat/cat6.JPG   Cat\n",
      "7  Data/Pictures/Train/Dog/dog1.JPEG   Dog\n",
      "8  Data/Pictures/Train/Dog/dog2.JPEG   Dog\n",
      "9  Data/Pictures/Train/Dog/dog3.JPEG   Dog\n",
      "10 Data/Pictures/Train/Dog/dog4.JPEG   Dog\n"
     ]
    }
   ],
   "source": [
    "imageLocation = \"Data/Pictures\"\n",
    "types <- list.files(file.path(imageLocation, \"Train\"))\n",
    "print(types)\n",
    "images<- c()\n",
    "typeCount<-c()\n",
    "for(type in types){\n",
    "    subImage <-list.files(file.path(imageLocation, \"Train\", type))\n",
    "    images <- c(images, file.path(imageLocation, \"Train\", type, subImage))\n",
    "    typeCount <- c(typeCount, length(subImage))\n",
    "}\n",
    "\n",
    "#print(typeCount)\n",
    "#print(rep(types, typeCount))\n",
    "\n",
    "imagesDF <- data.frame(Image = images, stringsAsFactors = FALSE)\n",
    "imagesDF$Label <- rep(types, typeCount)\n",
    "print(head(imagesDF,10))"
   ]
  },
  {
   "cell_type": "markdown",
   "metadata": {},
   "source": [
    "### Train Model"
   ]
  },
  {
   "cell_type": "code",
   "execution_count": 3,
   "metadata": {},
   "outputs": [
    {
     "name": "stdout",
     "output_type": "stream",
     "text": [
      "Automatically adding a MinMax normalization transform, use 'norm=Warn' or 'norm=No' to turn this behavior off.\n",
      "Beginning processing data.\n",
      "Rows Read: 49, Read Time: 0.001, Transform Time: 0\n",
      "Beginning processing data.\n",
      "Automatically converting column 'Label' into a factor.\n",
      "Beginning processing data.\n",
      "Rows Read: 49, Read Time: 0.001, Transform Time: 0\n",
      "Beginning processing data.\n",
      "Beginning processing data.\n",
      "Rows Read: 49, Read Time: 0, Transform Time: 0\n",
      "Beginning processing data.\n",
      "Beginning processing data.\n",
      "Rows Read: 49, Read Time: 0, Transform Time: 0\n",
      "Beginning processing data.\n",
      "LBFGS multi-threading will attempt to load dataset into memory. In case of out-of-memory issues, turn off multi-threading by setting trainThreads to 1.\n",
      "Warning: Too few instances to use 16 threads, decreasing to 1 thread(s)\n",
      "Beginning optimization\n",
      "num vars: 16392\n",
      "improvement criterion: Mean Improvement\n",
      "L1 regularization selected 214 of 16392 weights.\n",
      "Not training a calibrator because it is not needed.\n",
      "Elapsed time: 00:01:35.7050285\n",
      "Elapsed time: 00:00:01.0224914\n"
     ]
    }
   ],
   "source": [
    "\n",
    "imagesModel <- rxLogisticRegression(\n",
    "  formula = Label~Features,\n",
    "  data = imagesDF,\n",
    "  type = \"multiClass\",\n",
    "  mlTransforms = list(\n",
    "    loadImage(vars = list(Features = \"Image\")),\n",
    "    resizeImage(vars = \"Features\", width = 224, height = 224),\n",
    "    extractPixels(vars = \"Features\"),\n",
    "    featurizeImage(var = \"Features\", dnnModel = \"resnet50\")) \n",
    ")"
   ]
  },
  {
   "cell_type": "markdown",
   "metadata": {},
   "source": [
    "### Define Predict function"
   ]
  },
  {
   "cell_type": "code",
   "execution_count": 4,
   "metadata": {
    "collapsed": true
   },
   "outputs": [],
   "source": [
    "classImage<-function(path){\n",
    "  imgDF<-data.frame(Image = path, Label = \"\", stringsAsFactors = FALSE)\n",
    "  prediction <- rxPredict(imagesModel, data = imgDF, extraVarsToWrite = list(\"Label\", \"Image\"), reportProgress = 0)\n",
    "  #typeOfImage <- imagesDF$Type[which(imagesDF$Label == prediction$PredictedLabel)[[1]]]\n",
    "  typeOfImage <- prediction$PredictedLabel\n",
    "  cat(paste(\"The image is of type: \", typeOfImage))\n",
    "  return(typeOfImage)\n",
    "}"
   ]
  },
  {
   "cell_type": "code",
   "execution_count": 5,
   "metadata": {},
   "outputs": [
    {
     "name": "stdout",
     "output_type": "stream",
     "text": [
      "Elapsed time: 00:00:05.2749727\n",
      "The image is of type:  Fish"
     ]
    },
    {
     "data": {
      "text/html": [
       "Fish"
      ],
      "text/latex": [
       "Fish"
      ],
      "text/markdown": [
       "Fish"
      ],
      "text/plain": [
       "[1] Fish\n",
       "Levels: Cat Dog FighterJet Fish Flower Helicopter Monkey Table"
      ]
     },
     "metadata": {},
     "output_type": "display_data"
    }
   ],
   "source": [
    "path<- file.path(imageLocation, \"test/fish.jpg\")\n",
    "classImage(path)"
   ]
  },
  {
   "cell_type": "markdown",
   "metadata": {},
   "source": [
    "### Publish model as web service"
   ]
  },
  {
   "cell_type": "code",
   "execution_count": null,
   "metadata": {
    "collapsed": true
   },
   "outputs": [],
   "source": [
    "remoteLogin(\"http://localhost:12800\", \n",
    "            username = \"admin\", \n",
    "            password = \"Pass@word1\",\n",
    "            session = FALSE)\n",
    "\n",
    "api <- publishService(\n",
    "     \"classImage\",\n",
    "     code = classImage,\n",
    "     model = imagesModel,\n",
    "     inputs = list(Image = \"character\"),\n",
    "     outputs = list(type = \"character\"),\n",
    "     v = \"v1.0.1\"\n",
    ")"
   ]
  },
  {
   "cell_type": "markdown",
   "metadata": {},
   "source": [
    "# Pre-Trained Sentiment Analysis Model"
   ]
  },
  {
   "cell_type": "code",
   "execution_count": 6,
   "metadata": {},
   "outputs": [
    {
     "name": "stdout",
     "output_type": "stream",
     "text": [
      "Beginning processing data.\n",
      "Rows Read: 6, Read Time: 0, Transform Time: 0\n",
      "Beginning processing data.\n",
      "Elapsed time: 00:00:04.8370230\n",
      "Finished writing 6 rows.\n",
      "Writing completed.\n",
      "[1] 0.4617899 0.9601924 0.3103435 0.5000000 0.3925641 0.9989264\n",
      "[1] \"Negative\" \"Positive\" \"Negative\" \"Negative\" \"Negative\" \"Positive\"\n"
     ]
    }
   ],
   "source": [
    " # Create the data. These phrases can be edited as you wish.\n",
    " CustomerReviews <- data.frame(Review = c(\n",
    "   \"I really did not like the taste of it\",\n",
    "   \"It was surprisingly quite good!\",\n",
    "   \"I will never ever ever go to that place again!!\",\n",
    "     \"This phrase is neutral. Your own phrase here.\",\n",
    "     \"I had a great time eating bland food and getting ripped off.\",\n",
    "   \"Fantastic, Amazing, Wonderful, Perfect.\"),\n",
    "   stringsAsFactors = FALSE)\n",
    "\n",
    " # Get the sentiment scores\n",
    " #sentimentScores <- rxFeaturize(data = CustomerReviews, \n",
    " #                               mlTransforms = getSentiment(vars = list(SentimentScore = \"Review\")))\n",
    "\n",
    "scoreSentiment <- function(yourString){\n",
    "    stringDf <- data.frame(String = c(yourString), stringsAsFactors = FALSE)\n",
    "    scoreOut <- rxFeaturize(data = stringDf, mlTransforms = getSentiment(vars = list(SentimentScore = \"String\")))\n",
    "    score <- scoreOut$SentimentScore\n",
    "    print(score)\n",
    "    return(ifelse(score > 0.5, \"Positive\", \"Negative\"))\n",
    "}\n",
    "\n",
    " # Let's translate the score to something more meaningful\n",
    " #sentimentScores$PredictedRating <- ifelse(sentimentScores$SentimentScore > 0.6, \n",
    " #                                          \"Positive\", \"Negative\")\n",
    "\n",
    " # Let's look at the results\n",
    " #sentimentScores\n",
    "for(i in CustomerReviews){\n",
    "    print(scoreSentiment(i))\n",
    "}"
   ]
  }
 ],
 "metadata": {
  "kernelspec": {
   "display_name": "R",
   "language": "R",
   "name": "ir"
  },
  "language_info": {
   "codemirror_mode": "r",
   "file_extension": ".r",
   "mimetype": "text/x-r-source",
   "name": "R",
   "pygments_lexer": "r",
   "version": "3.4.1"
  }
 },
 "nbformat": 4,
 "nbformat_minor": 2
}
