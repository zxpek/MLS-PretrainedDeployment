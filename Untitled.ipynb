{
 "cells": [
  {
   "cell_type": "code",
   "execution_count": 4,
   "metadata": {},
   "outputs": [],
   "source": [
    "library(AzureML)\n",
    "library(lme4)\n",
    "ws<- workspace(id = 'd4beb00743024f30b80aefc12835a4a0', auth = 'oeWDKzAswJTMbZYwPEO2eOSqui5+rpJC+2BFFMG1z7fl/OOME96/KGNBqpEbCxTvRNeybanihoCQsnKau6koLg==')\n",
    "\n",
    "s <-  services(ws, name = \"Simple Image Classifier\")\n",
    "s <- tail(s, 1) # use the last published function, in case of duplicate function names\n",
    "\n",
    "ep <- endpoints(ws, s)\n"
   ]
  },
  {
   "cell_type": "code",
   "execution_count": 5,
   "metadata": {},
   "outputs": [
    {
     "ename": "ERROR",
     "evalue": "Error: AzureML returns error code:\nHTTP status code : 400\nAzureML error code  : LibraryExecutionError\n\nModule execution encountered an internal library error.\nThe following error occurred during evaluation of R script: R_tryEval: return error: Error in ..fun(inputDF) : could not find function \"rxPredict\"\n\n",
     "output_type": "error",
     "traceback": [
      "Error: AzureML returns error code:\nHTTP status code : 400\nAzureML error code  : LibraryExecutionError\n\nModule execution encountered an internal library error.\nThe following error occurred during evaluation of R script: R_tryEval: return error: Error in ..fun(inputDF) : could not find function \"rxPredict\"\n\nTraceback:\n",
      "1. consume(ep, imageToMatch)",
      "2. callAPI(apiKey, requestUrl, requestsLists, globalParam, retryDelay, \n .     .retry = .retry)",
      "3. try_fetch(requestUrl, h, no_retry_on = 400, delay = retryDelay, \n .     .retry = .retry)",
      "4. validate_response(r)",
      "5. stop(msg, call. = FALSE)"
     ]
    }
   ],
   "source": [
    "img<-\"C:/Users/MTCDemoVM/Downloads/data/ILSVRC2012_val_00000003.jpeg\"\n",
    "imageToMatch <- data.frame(Image = img,Label = 0, stringsAsFactors = FALSE)\n",
    "# OK, try this out, and compare with raw data\n",
    "g<-consume(ep, imageToMatch)"
   ]
  },
  {
   "cell_type": "code",
   "execution_count": 6,
   "metadata": {
    "collapsed": true
   },
   "outputs": [],
   "source": [
    "remoteLogin(\"http://localhost:12800\", \n",
    "            session = FALSE)"
   ]
  },
  {
   "cell_type": "code",
   "execution_count": 7,
   "metadata": {},
   "outputs": [
    {
     "name": "stdout",
     "output_type": "stream",
     "text": [
      "<serviceDetails>\n",
      "   ------------------------------------------------------------------\n",
      "   name: image-class \n",
      "   version: c32b78c0-33e0-4b65-bbf2-c95786b9aac8 \n",
      "   versionPublishedBy: admin \n",
      "   creationTime: 2017-11-12T13:59:39.6736153 \n",
      "   snapshotId: 00fe6f39-db3d-4886-9aa5-7f648838b051 \n",
      "   runtimeType: R \n",
      "   operationId (alias): classImage \n",
      "   outputFileNames (artifacts):  \n",
      "   inputParameterDefinitions (inputs):\n",
      "     name: x\n",
      "     type: data.frame\n",
      "   outputParameterDefinitions (outputs):\n",
      "     name: result\n",
      "     type: character\n",
      "   description: \n",
      "   code: \n",
      "      ```\n",
      "       result <- (function (imgDF) \n",
      "{\n",
      "    prediction <- rxPredict(imagesModel, data = imgDF, extraVarsToWrite = list(\"Label\", \n",
      "        \"Image\"))\n",
      "    typeOfImage <- imagesDF$Type[which(imagesDF$Label == prediction$PredictedLabel)[[1]]]\n",
      "    cat(paste(\"The image is of type: \", typeOfImage))\n",
      "})(x) \n",
      "      ```\n",
      "   ------------------------------------------------------------------ \n"
     ]
    }
   ],
   "source": [
    "# Return metadata for all services hosted on this server\n",
    "serviceAll <- listServices()\n",
    "print(serviceAll)"
   ]
  },
  {
   "cell_type": "code",
   "execution_count": 13,
   "metadata": {},
   "outputs": [
    {
     "name": "stdout",
     "output_type": "stream",
     "text": [
      "                                                           Image Label\n",
      "1 C:/Users/MTCDemoVM/Downloads/data/ILSVRC2012_val_00000003.jpeg     0\n"
     ]
    }
   ],
   "source": [
    "img<-\"C:/Users/MTCDemoVM/Downloads/data/ILSVRC2012_val_00000003.jpeg\"\n",
    "imgDF <- data.frame(Image = img,Label = 0, stringsAsFactors = FALSE)\n",
    "print(imgDF)"
   ]
  },
  {
   "cell_type": "code",
   "execution_count": 16,
   "metadata": {},
   "outputs": [
    {
     "data": {
      "text/plain": [
       "$success\n",
       "[1] FALSE\n",
       "\n",
       "$errorMessage\n",
       "[1] \"Error in doTryCatch(return(expr), name, parentenv, handler) : \\n  Error: *** Exception: 'Could not apply a map over type 'R8' to column '54df83824fc14af48714793a1eebb91d' since it has type 'I4''\\nError in processing machine learning request.\\nresult could not be returned.\\r\\n\"\n",
       "\n",
       "$outputParameters\n",
       "$outputParameters$result\n",
       "NULL\n",
       "\n",
       "\n",
       "$outputFiles\n",
       "named list()\n",
       "\n",
       "$consoleOutput\n",
       "[1] \"Elapsed time: 00:00:01.3049538\\r\\nError: *** Exception: 'Could not apply a map over type 'R8' to column '54df83824fc14af48714793a1eebb91d' since it has type 'I4''\\r\\nError in processing machine learning request.\\r\\n\"\n",
       "\n",
       "$changedFiles\n",
       "list()\n",
       "\n",
       "$artifact\n",
       "function (filename, dec = TRUE) \n",
       "{\n",
       "    content <- if (!is.null(list())) \n",
       "        list()[[filename]]\n",
       "    else NULL\n",
       "    if (!is.null(content) && isTRUE(dec)) {\n",
       "        content <- tryCatch({\n",
       "            jsonlite::base64_dec(content)\n",
       "        }, error = function(e) {\n",
       "            content <- NULL\n",
       "        })\n",
       "    }\n",
       "    content\n",
       "}\n",
       "<environment: 0x000000000eceed70>\n",
       "\n",
       "$output\n",
       "function (output, ...) \n",
       "{\n",
       "    outputs <- list(result = NULL)\n",
       "    outputSchema <- list(result = \"character\")\n",
       "    out <- outputs[[output]]\n",
       "    if (!is.null(out) && !is.null(outputSchema)) {\n",
       "        switch(outputSchema[[output]], numeric = out <- as.numeric(out, \n",
       "            ...), integer = out <- as.integer(out, ...), character = out <- as.character(out, \n",
       "            ...), logical = out <- as.logical(out, ...), vector = out <- unlist(out), \n",
       "            matrix = out <- matrix(unlist(out), ...), data.frame = {\n",
       "                for (n in names(out)) {\n",
       "                  out[[n]] <- unlist(out[[n]])\n",
       "                }\n",
       "                out <- data.frame(t(do.call(rbind, out)))\n",
       "            })\n",
       "    }\n",
       "    out\n",
       "}\n",
       "<environment: 0x000000000eceed70>\n"
      ]
     },
     "metadata": {},
     "output_type": "display_data"
    }
   ],
   "source": [
    "# Get service using getService() function from `mrsdeploy` package.\n",
    "# Assign service to the variable `api`.\n",
    "api <- getService(\"imageClass\")\n",
    "\n",
    "# Print capabilities to see what service can do.\n",
    "api$consume(imgDF)\n"
   ]
  },
  {
   "cell_type": "code",
   "execution_count": null,
   "metadata": {
    "collapsed": true
   },
   "outputs": [],
   "source": []
  },
  {
   "cell_type": "code",
   "execution_count": null,
   "metadata": {
    "collapsed": true
   },
   "outputs": [],
   "source": []
  },
  {
   "cell_type": "code",
   "execution_count": null,
   "metadata": {
    "collapsed": true
   },
   "outputs": [],
   "source": []
  }
 ],
 "metadata": {
  "kernelspec": {
   "display_name": "R",
   "language": "R",
   "name": "ir"
  },
  "language_info": {
   "codemirror_mode": "r",
   "file_extension": ".r",
   "mimetype": "text/x-r-source",
   "name": "R",
   "pygments_lexer": "r",
   "version": "3.4.1"
  }
 },
 "nbformat": 4,
 "nbformat_minor": 2
}
